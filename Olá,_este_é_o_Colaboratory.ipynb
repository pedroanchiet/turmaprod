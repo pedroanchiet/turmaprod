{
  "cells": [
    {
      "cell_type": "markdown",
      "metadata": {
        "id": "view-in-github",
        "colab_type": "text"
      },
      "source": [
        "<a href=\"https://colab.research.google.com/github/pedroanchiet/turmaprod/blob/main/Ol%C3%A1%2C_este_%C3%A9_o_Colaboratory.ipynb\" target=\"_parent\"><img src=\"https://colab.research.google.com/assets/colab-badge.svg\" alt=\"Open In Colab\"/></a>"
      ]
    },
    {
      "cell_type": "markdown",
      "source": [
        "# AULA EXERCICIO\n"
      ],
      "metadata": {
        "id": "iDyOR5xWSBfg"
      }
    },
    {
      "cell_type": "code",
      "source": [
        "#EX 1\n",
        "valor = int(input(\"Digite um valor inteiro: \"))\n",
        "if valor % 3 == 0:\n",
        "  print(\"O valor é múltiplo de 3.\")\n",
        "else:\n",
        "  print(\"O valor não é múltiplo de 3.\")\n"
      ],
      "metadata": {
        "id": "caCO1enOSG36",
        "outputId": "ff556116-bb0f-4f71-db5a-a24b105bcdee",
        "colab": {
          "base_uri": "https://localhost:8080/"
        }
      },
      "execution_count": 2,
      "outputs": [
        {
          "output_type": "stream",
          "name": "stdout",
          "text": [
            "Digite um valor inteiro: 555\n",
            "O valor é múltiplo de 3.\n"
          ]
        }
      ]
    },
    {
      "cell_type": "markdown",
      "source": [
        "# EX 2\n"
      ],
      "metadata": {
        "id": "DzGKUtXuWJ6q"
      }
    },
    {
      "cell_type": "code",
      "source": [
        "#EX 2\n",
        "A = float(input(\"Digite a nota A (peso 2): \"))\n",
        "B = float(input(\"Digite a nota B (peso 3): \"))\n",
        "#Media ponderada\n",
        "peso_A = 2\n",
        "peso_B = 3\n",
        "media_ponderada = (A * peso_A + B * peso_B) / (peso_A + peso_B)\n",
        "#Aprovação\n",
        "if media_ponderada >= 5:\n",
        "  Esta = \"Aprovado\"\n",
        "else:\n",
        "  Esta = \"Reprovado\"\n",
        "print(f\"Media ponderada: {media_ponderada: .0f} - Status: {Esta}\")\n"
      ],
      "metadata": {
        "id": "dToRoRBoWQsz",
        "outputId": "2961a41c-e5f0-4b26-ff2c-10648fa279a9",
        "colab": {
          "base_uri": "https://localhost:8080/"
        }
      },
      "execution_count": 5,
      "outputs": [
        {
          "output_type": "stream",
          "name": "stdout",
          "text": [
            "Digite a nota A (peso 2): 2\n",
            "Digite a nota B (peso 3): 3\n",
            "Media ponderada:  3 - Status: Reprovado\n"
          ]
        }
      ]
    }
  ],
  "metadata": {
    "colab": {
      "name": "Olá, este é o Colaboratory",
      "toc_visible": true,
      "provenance": [],
      "include_colab_link": true
    },
    "kernelspec": {
      "display_name": "Python 3",
      "name": "python3"
    }
  },
  "nbformat": 4,
  "nbformat_minor": 0
}